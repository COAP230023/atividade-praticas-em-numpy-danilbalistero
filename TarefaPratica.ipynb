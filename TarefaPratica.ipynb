{
  "nbformat": 4,
  "nbformat_minor": 0,
  "metadata": {
    "colab": {
      "provenance": [],
      "authorship_tag": "ABX9TyNo81elSNSndFDQUGW/uRUm",
      "include_colab_link": true
    },
    "kernelspec": {
      "name": "python3",
      "display_name": "Python 3"
    },
    "language_info": {
      "name": "python"
    }
  },
  "cells": [
    {
      "cell_type": "markdown",
      "metadata": {
        "id": "view-in-github",
        "colab_type": "text"
      },
      "source": [
        "<a href=\"https://colab.research.google.com/github/COAP230023/atividade-praticas-em-numpy-danilbalistero/blob/main/TarefaPratica.ipynb\" target=\"_parent\"><img src=\"https://colab.research.google.com/assets/colab-badge.svg\" alt=\"Open In Colab\"/></a>"
      ]
    },
    {
      "cell_type": "markdown",
      "source": [
        "## Fáceis\n",
        "### 1. Vetor de zeros\n",
        "**Crie um array 1D com 10 zeros usando NumPy e mostre o dtype e o shape.**"
      ],
      "metadata": {
        "id": "Cy5iipYaAPx3"
      }
    },
    {
      "cell_type": "code",
      "execution_count": 14,
      "metadata": {
        "colab": {
          "base_uri": "https://localhost:8080/"
        },
        "id": "9wjNgLQ__tH4",
        "outputId": "4fad6f80-d564-4f4f-bb29-f6e96158f3f5"
      },
      "outputs": [
        {
          "output_type": "stream",
          "name": "stdout",
          "text": [
            "[0. 0. 0. 0. 0. 0. 0. 0. 0. 0.]\n",
            "float64\n",
            "(10,)\n"
          ]
        }
      ],
      "source": [
        "import numpy as np\n",
        "\n",
        "a1D = np.zeros(10)\n",
        "print(a1D)\n",
        "print(a1D.dtype)\n",
        "print(a1D.shape)"
      ]
    },
    {
      "cell_type": "markdown",
      "source": [
        "### 2. Vetor de uns  _(fácil)_\n",
        "\n",
        "**Crie um array 1D com 10 uns e transforme-o em float64.**"
      ],
      "metadata": {
        "id": "t_SP7n3WCTh_"
      }
    },
    {
      "cell_type": "code",
      "source": [
        "a1D = np.ones(10)\n",
        "print(a1D)\n",
        "print(a1D.dtype)"
      ],
      "metadata": {
        "colab": {
          "base_uri": "https://localhost:8080/"
        },
        "id": "KuQxEmPUCi9E",
        "outputId": "a759d36f-6e3c-48be-c2ce-da6fa20222fa"
      },
      "execution_count": 15,
      "outputs": [
        {
          "output_type": "stream",
          "name": "stdout",
          "text": [
            "[1. 1. 1. 1. 1. 1. 1. 1. 1. 1.]\n",
            "float64\n"
          ]
        }
      ]
    },
    {
      "cell_type": "markdown",
      "source": [
        "\n",
        "### 3. Sequência 0–9  _(fácil)_\n",
        "\n",
        "Crie um array com os inteiros de 0 a 9 (inclusive)."
      ],
      "metadata": {
        "id": "eL_UyxC1EMUS"
      }
    },
    {
      "cell_type": "code",
      "source": [
        "a1D = np.arange(10)\n",
        "print(a1D)"
      ],
      "metadata": {
        "colab": {
          "base_uri": "https://localhost:8080/"
        },
        "id": "m2jYel_ZEXxM",
        "outputId": "1cf1d155-0d50-4eb7-f293-42255982fe37"
      },
      "execution_count": 17,
      "outputs": [
        {
          "output_type": "stream",
          "name": "stdout",
          "text": [
            "[0 1 2 3 4 5 6 7 8 9]\n"
          ]
        }
      ]
    },
    {
      "cell_type": "markdown",
      "source": [
        "\n",
        "### 4. Matriz 3×3 com 0…8  _(fácil)_\n",
        "\n",
        "Crie um array 3×3 com os valores 0…8 (reshape)."
      ],
      "metadata": {
        "id": "dPPaKljgFGE6"
      }
    },
    {
      "cell_type": "code",
      "source": [
        "a2D = np.arange(9).reshape(3, 3)\n",
        "print(a2D)"
      ],
      "metadata": {
        "colab": {
          "base_uri": "https://localhost:8080/"
        },
        "id": "f2jnLC4kFI3p",
        "outputId": "515fb6da-c178-45e0-f44f-69ef9e95d82e"
      },
      "execution_count": 22,
      "outputs": [
        {
          "output_type": "stream",
          "name": "stdout",
          "text": [
            "[[0 1 2]\n",
            " [3 4 5]\n",
            " [6 7 8]]\n"
          ]
        }
      ]
    }
  ]
}