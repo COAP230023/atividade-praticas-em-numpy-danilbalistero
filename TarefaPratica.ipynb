{
  "nbformat": 4,
  "nbformat_minor": 0,
  "metadata": {
    "colab": {
      "provenance": [],
      "authorship_tag": "ABX9TyPvTNN9XewyPxB1ewULmlZx",
      "include_colab_link": true
    },
    "kernelspec": {
      "name": "python3",
      "display_name": "Python 3"
    },
    "language_info": {
      "name": "python"
    }
  },
  "cells": [
    {
      "cell_type": "markdown",
      "metadata": {
        "id": "view-in-github",
        "colab_type": "text"
      },
      "source": [
        "<a href=\"https://colab.research.google.com/github/COAP230023/atividade-praticas-em-numpy-danilbalistero/blob/main/TarefaPratica.ipynb\" target=\"_parent\"><img src=\"https://colab.research.google.com/assets/colab-badge.svg\" alt=\"Open In Colab\"/></a>"
      ]
    },
    {
      "cell_type": "markdown",
      "source": [
        "## Fáceis\n",
        "### 1. Vetor de zeros\n",
        "**Crie um array 1D com 10 zeros usando NumPy e mostre o dtype e o shape.**"
      ],
      "metadata": {
        "id": "Cy5iipYaAPx3"
      }
    },
    {
      "cell_type": "code",
      "execution_count": 154,
      "metadata": {
        "colab": {
          "base_uri": "https://localhost:8080/"
        },
        "id": "9wjNgLQ__tH4",
        "outputId": "4f3683a5-ee61-466b-b1ab-f303acb116d6"
      },
      "outputs": [
        {
          "output_type": "stream",
          "name": "stdout",
          "text": [
            "[0. 0. 0. 0. 0. 0. 0. 0. 0. 0.]\n",
            "float64\n",
            "(10,)\n"
          ]
        }
      ],
      "source": [
        "import numpy as np\n",
        "\n",
        "a1D = np.zeros(10)\n",
        "print(a1D)\n",
        "print(a1D.dtype)\n",
        "print(a1D.shape)"
      ]
    },
    {
      "cell_type": "markdown",
      "source": [
        "### 2. Vetor de uns  _(fácil)_\n",
        "\n",
        "**Crie um array 1D com 10 uns e transforme-o em float64.**"
      ],
      "metadata": {
        "id": "t_SP7n3WCTh_"
      }
    },
    {
      "cell_type": "code",
      "source": [
        "a1D = np.ones(10)\n",
        "print(a1D)\n",
        "print(a1D.dtype)"
      ],
      "metadata": {
        "colab": {
          "base_uri": "https://localhost:8080/"
        },
        "id": "KuQxEmPUCi9E",
        "outputId": "b42962eb-357d-4639-e6d6-9592f66ed63a"
      },
      "execution_count": 155,
      "outputs": [
        {
          "output_type": "stream",
          "name": "stdout",
          "text": [
            "[1. 1. 1. 1. 1. 1. 1. 1. 1. 1.]\n",
            "float64\n"
          ]
        }
      ]
    },
    {
      "cell_type": "markdown",
      "source": [
        "\n",
        "### 3. Sequência 0–9  _(fácil)_\n",
        "\n",
        "Crie um array com os inteiros de 0 a 9 (inclusive)."
      ],
      "metadata": {
        "id": "eL_UyxC1EMUS"
      }
    },
    {
      "cell_type": "code",
      "source": [
        "a1D = np.arange(10)\n",
        "print(a1D)"
      ],
      "metadata": {
        "colab": {
          "base_uri": "https://localhost:8080/"
        },
        "id": "m2jYel_ZEXxM",
        "outputId": "bc7f0425-da4e-4b0d-c685-628c395b6bfd"
      },
      "execution_count": 156,
      "outputs": [
        {
          "output_type": "stream",
          "name": "stdout",
          "text": [
            "[0 1 2 3 4 5 6 7 8 9]\n"
          ]
        }
      ]
    },
    {
      "cell_type": "markdown",
      "source": [
        "\n",
        "### 4. Matriz 3×3 com 0…8  _(fácil)_\n",
        "\n",
        "Crie um array 3×3 com os valores 0…8 (reshape)."
      ],
      "metadata": {
        "id": "dPPaKljgFGE6"
      }
    },
    {
      "cell_type": "code",
      "source": [
        "a2D = np.arange(9).reshape(3, 3)\n",
        "print(a2D)"
      ],
      "metadata": {
        "colab": {
          "base_uri": "https://localhost:8080/"
        },
        "id": "f2jnLC4kFI3p",
        "outputId": "2cb1ff71-7b75-4489-9a8a-53bc29a508e0"
      },
      "execution_count": 157,
      "outputs": [
        {
          "output_type": "stream",
          "name": "stdout",
          "text": [
            "[[0 1 2]\n",
            " [3 4 5]\n",
            " [6 7 8]]\n"
          ]
        }
      ]
    },
    {
      "cell_type": "markdown",
      "source": [
        "### 5. Índices não zero  _(fácil)_\n",
        "\n",
        "Dado o vetor `v = np.array([1,2,0,0,4,0])`, encontre os índices dos elementos não nulos."
      ],
      "metadata": {
        "id": "ogDaQNJ2HIVe"
      }
    },
    {
      "cell_type": "code",
      "source": [
        "v = np.array([1,2,0,0,4,0])\n",
        "np.nonzero(v)"
      ],
      "metadata": {
        "colab": {
          "base_uri": "https://localhost:8080/"
        },
        "id": "y_sieZElHUON",
        "outputId": "ddb233ca-bc78-4ccb-f888-f5944dcc4e78"
      },
      "execution_count": 158,
      "outputs": [
        {
          "output_type": "execute_result",
          "data": {
            "text/plain": [
              "(array([0, 1, 4]),)"
            ]
          },
          "metadata": {},
          "execution_count": 158
        }
      ]
    },
    {
      "cell_type": "markdown",
      "source": [
        "### 6. Linspace  _(fácil)_\n",
        "\n",
        "Crie um vetor de 12 pontos igualmente espaçados no intervalo [0, 1]."
      ],
      "metadata": {
        "id": "yWHVuS6lIzuJ"
      }
    },
    {
      "cell_type": "code",
      "source": [
        "a = np.linspace(0,1, num=12)\n",
        "print(a)"
      ],
      "metadata": {
        "colab": {
          "base_uri": "https://localhost:8080/"
        },
        "id": "nDERE017I4xD",
        "outputId": "5947601c-93ff-43ab-eebc-25f607d12673"
      },
      "execution_count": 159,
      "outputs": [
        {
          "output_type": "stream",
          "name": "stdout",
          "text": [
            "[0.         0.09090909 0.18181818 0.27272727 0.36363636 0.45454545\n",
            " 0.54545455 0.63636364 0.72727273 0.81818182 0.90909091 1.        ]\n"
          ]
        }
      ]
    },
    {
      "cell_type": "markdown",
      "source": [
        "## 7. Identidade 5×5  _(fácil)_\n",
        "\n",
        "Crie uma matriz identidade de ordem 5."
      ],
      "metadata": {
        "id": "k9Qf453HJjt1"
      }
    },
    {
      "cell_type": "code",
      "source": [
        "a = np.eye(5)\n",
        "print(a)"
      ],
      "metadata": {
        "colab": {
          "base_uri": "https://localhost:8080/"
        },
        "id": "I_oWFccrJrqT",
        "outputId": "3aa8df2f-fc8d-4df6-91d2-9835d8068c44"
      },
      "execution_count": 160,
      "outputs": [
        {
          "output_type": "stream",
          "name": "stdout",
          "text": [
            "[[1. 0. 0. 0. 0.]\n",
            " [0. 1. 0. 0. 0.]\n",
            " [0. 0. 1. 0. 0.]\n",
            " [0. 0. 0. 1. 0.]\n",
            " [0. 0. 0. 0. 1.]]\n"
          ]
        }
      ]
    },
    {
      "cell_type": "markdown",
      "source": [
        "\n",
        "### 8. Aleatórios 3×3×3  _(fácil)_\n",
        "\n",
        "Gere um array 3×3×3 com valores aleatórios uniformes em [0,1). Use `np.random.default_rng(42)`."
      ],
      "metadata": {
        "id": "dDVfx7bXKJtn"
      }
    },
    {
      "cell_type": "code",
      "source": [
        "rng = np.random.default_rng(42)\n",
        "a = rng.random((3,3,3))\n",
        "print(a)"
      ],
      "metadata": {
        "colab": {
          "base_uri": "https://localhost:8080/"
        },
        "id": "0DSEJoycKL_1",
        "outputId": "61925d52-9ded-41c3-c9f6-791cb1e0ce81"
      },
      "execution_count": 161,
      "outputs": [
        {
          "output_type": "stream",
          "name": "stdout",
          "text": [
            "[[[0.77395605 0.43887844 0.85859792]\n",
            "  [0.69736803 0.09417735 0.97562235]\n",
            "  [0.7611397  0.78606431 0.12811363]]\n",
            "\n",
            " [[0.45038594 0.37079802 0.92676499]\n",
            "  [0.64386512 0.82276161 0.4434142 ]\n",
            "  [0.22723872 0.55458479 0.06381726]]\n",
            "\n",
            " [[0.82763117 0.6316644  0.75808774]\n",
            "  [0.35452597 0.97069802 0.89312112]\n",
            "  [0.7783835  0.19463871 0.466721  ]]]\n"
          ]
        }
      ]
    },
    {
      "cell_type": "markdown",
      "source": [
        "### 8. Aleatórios 3×3×3  _(fácil)_\n",
        "\n",
        "Gere um array 3×3×3 com valores aleatórios uniformes em [0,1). Use `np.random.default_rng(42)`."
      ],
      "metadata": {
        "id": "XLYmNDbglpUl"
      }
    },
    {
      "cell_type": "code",
      "source": [
        "rng = np.random.default_rng(42)\n",
        "\n",
        "array_aleatorio = rng.random((3, 3, 3))\n",
        "\n",
        "print(\"Array 3x3x3 com valores aleatórios:\")\n",
        "print(array_aleatorio)"
      ],
      "metadata": {
        "colab": {
          "base_uri": "https://localhost:8080/"
        },
        "id": "4hHE46dUlviy",
        "outputId": "69ff6080-d033-47b0-8aa0-a522c5712b45"
      },
      "execution_count": 162,
      "outputs": [
        {
          "output_type": "stream",
          "name": "stdout",
          "text": [
            "Array 3x3x3 com valores aleatórios:\n",
            "[[[0.77395605 0.43887844 0.85859792]\n",
            "  [0.69736803 0.09417735 0.97562235]\n",
            "  [0.7611397  0.78606431 0.12811363]]\n",
            "\n",
            " [[0.45038594 0.37079802 0.92676499]\n",
            "  [0.64386512 0.82276161 0.4434142 ]\n",
            "  [0.22723872 0.55458479 0.06381726]]\n",
            "\n",
            " [[0.82763117 0.6316644  0.75808774]\n",
            "  [0.35452597 0.97069802 0.89312112]\n",
            "  [0.7783835  0.19463871 0.466721  ]]]\n"
          ]
        }
      ]
    },
    {
      "cell_type": "markdown",
      "source": [
        "\n",
        "### 9. Min/Max  _(fácil)_\n",
        "\n",
        "Crie uma matriz 10×10 de aleatórios uniformes e mostre o valor mínimo e máximo."
      ],
      "metadata": {
        "id": "Zh4V1xpjlwQB"
      }
    },
    {
      "cell_type": "code",
      "source": [
        "rng = np.random.default_rng(42)\n",
        "\n",
        "matriz = rng.random((10, 10))\n",
        "\n",
        "valor_min = matriz.min()\n",
        "valor_max = matriz.max()\n",
        "\n",
        "print(\"Matriz 10x10 gerada (apenas as 5 primeiras linhas para visualização):\")\n",
        "print(matriz[:5, :])\n",
        "print(\"\\n\" + \"=\"*40 + \"\\n\")\n",
        "print(f\"Valor Mínimo na matriz: {valor_min}\")\n",
        "print(f\"Valor Máximo na matriz: {valor_max}\")"
      ],
      "metadata": {
        "colab": {
          "base_uri": "https://localhost:8080/"
        },
        "id": "GRMBOALel1Gz",
        "outputId": "0c41fd2d-09bd-405b-8955-dcb2ab8509a9"
      },
      "execution_count": 163,
      "outputs": [
        {
          "output_type": "stream",
          "name": "stdout",
          "text": [
            "Matriz 10x10 gerada (apenas as 5 primeiras linhas para visualização):\n",
            "[[0.77395605 0.43887844 0.85859792 0.69736803 0.09417735 0.97562235\n",
            "  0.7611397  0.78606431 0.12811363 0.45038594]\n",
            " [0.37079802 0.92676499 0.64386512 0.82276161 0.4434142  0.22723872\n",
            "  0.55458479 0.06381726 0.82763117 0.6316644 ]\n",
            " [0.75808774 0.35452597 0.97069802 0.89312112 0.7783835  0.19463871\n",
            "  0.466721   0.04380377 0.15428949 0.68304895]\n",
            " [0.74476216 0.96750973 0.32582536 0.37045971 0.46955581 0.18947136\n",
            "  0.12992151 0.47570493 0.22690935 0.66981399]\n",
            " [0.43715192 0.8326782  0.7002651  0.31236664 0.8322598  0.80476436\n",
            "  0.38747838 0.2883281  0.6824955  0.13975248]]\n",
            "\n",
            "========================================\n",
            "\n",
            "Valor Mínimo na matriz: 0.007362269751005512\n",
            "Valor Máximo na matriz: 0.9756223516367559\n"
          ]
        }
      ]
    },
    {
      "cell_type": "markdown",
      "source": [
        "\n",
        "### 10. Padronização 1D  _(fácil)_\n",
        "\n",
        "Dado `x = [1,2,3,4,5]`, crie um array float e normalize para média 0 e desvio 1."
      ],
      "metadata": {
        "id": "zet0bscCl3sT"
      }
    },
    {
      "cell_type": "code",
      "source": [
        "x = np.array([1, 2, 3, 4, 5])\n",
        "\n",
        "x_float = x.astype(np.float64)\n",
        "\n",
        "media = np.mean(x_float)\n",
        "desvio_padrao = np.std(x_float)\n",
        "x_normalizado = (x_float - media) / desvio_padrao\n",
        "\n",
        "print(\"Array original:\", x)\n",
        "print(\"Array float:\", x_float)\n",
        "print(\"Array normalizado (média 0, desvio 1):\", x_normalizado)"
      ],
      "metadata": {
        "colab": {
          "base_uri": "https://localhost:8080/"
        },
        "id": "B2yzjcsvl7J-",
        "outputId": "d99f0d26-43ae-4db2-dbd7-1f09b54e8317"
      },
      "execution_count": 164,
      "outputs": [
        {
          "output_type": "stream",
          "name": "stdout",
          "text": [
            "Array original: [1 2 3 4 5]\n",
            "Array float: [1. 2. 3. 4. 5.]\n",
            "Array normalizado (média 0, desvio 1): [-1.41421356 -0.70710678  0.          0.70710678  1.41421356]\n"
          ]
        }
      ]
    },
    {
      "cell_type": "markdown",
      "source": [
        "\n",
        "### 11. Conversão de tipos  _(fácil)_\n",
        "\n",
        "Converta `np.array([1,2,3])` (int32) para float32 e depois para int64."
      ],
      "metadata": {
        "id": "q2dxQHfCl7tk"
      }
    },
    {
      "cell_type": "code",
      "source": [
        "array_inicial = np.array([1, 2, 3])\n",
        "print(f\"Array Original: {array_inicial}\")\n",
        "print(f\"Dtype Original: {array_inicial.dtype}\")\n",
        "print(\"-\" * 35)\n",
        "\n",
        "array_float32 = array_inicial.astype(np.float32)\n",
        "print(f\"Array convertido para float32: {array_float32}\")\n",
        "print(f\"Novo Dtype: {array_float32.dtype}\")\n",
        "print(\"-\" * 35)\n",
        "\n",
        "array_int64 = array_float32.astype(np.int64)\n",
        "print(f\"Array convertido para int64: {array_int64}\")\n",
        "print(f\"Dtype Final: {array_int64.dtype}\")"
      ],
      "metadata": {
        "colab": {
          "base_uri": "https://localhost:8080/"
        },
        "id": "X2_b3JHGl_BR",
        "outputId": "7d832f2d-0533-499a-8c1a-c29dd04ab51a"
      },
      "execution_count": 165,
      "outputs": [
        {
          "output_type": "stream",
          "name": "stdout",
          "text": [
            "Array Original: [1 2 3]\n",
            "Dtype Original: int64\n",
            "-----------------------------------\n",
            "Array convertido para float32: [1. 2. 3.]\n",
            "Novo Dtype: float32\n",
            "-----------------------------------\n",
            "Array convertido para int64: [1 2 3]\n",
            "Dtype Final: int64\n"
          ]
        }
      ]
    },
    {
      "cell_type": "markdown",
      "source": [
        "\n",
        "### 12. Clipping  _(fácil)_\n",
        "\n",
        "Dado `a = [2, 5, 7, 1, 9]`, limite os valores ao intervalo [0,5] (valores acima de 5 tornam-se 5)."
      ],
      "metadata": {
        "id": "7Hd_lMdLl_jS"
      }
    },
    {
      "cell_type": "code",
      "source": [
        "a = np.array([2, 5, 7, 1, 9])\n",
        "\n",
        "a_limitado = np.clip(a, 0, 5)\n",
        "\n",
        "print(\"Array Original: {a}\")\n",
        "print(\"Array Limitado ao intervalo [0, 5]: {a_limitado}\")"
      ],
      "metadata": {
        "colab": {
          "base_uri": "https://localhost:8080/"
        },
        "id": "l-AuHW7cmCH5",
        "outputId": "248e7ee8-f9c4-416d-a80e-be80fdd7cf0b"
      },
      "execution_count": 166,
      "outputs": [
        {
          "output_type": "stream",
          "name": "stdout",
          "text": [
            "Array Original: {a}\n",
            "Array Limitado ao intervalo [0, 5]: {a_limitado}\n"
          ]
        }
      ]
    },
    {
      "cell_type": "markdown",
      "source": [
        "### 13. Inversão  _(fácil)_\n",
        "\n",
        "Crie um vetor de 0 a 9 e inverta a ordem (sem usar `[::-1]`).\n"
      ],
      "metadata": {
        "id": "Blm2XjjNmC7-"
      }
    },
    {
      "cell_type": "code",
      "source": [
        "vetor_original = np.arange(10)\n",
        "\n",
        "vetor_invertido = np.flip(vetor_original)\n",
        "\n",
        "print(f\"Vetor Original:  {vetor_original}\")\n",
        "print(f\"Vetor Invertido: {vetor_invertido}\")"
      ],
      "metadata": {
        "colab": {
          "base_uri": "https://localhost:8080/"
        },
        "id": "dP7JPxp2mFJ7",
        "outputId": "2d168d19-aa8b-4d0a-dcbf-80bced278104"
      },
      "execution_count": 167,
      "outputs": [
        {
          "output_type": "stream",
          "name": "stdout",
          "text": [
            "Vetor Original:  [0 1 2 3 4 5 6 7 8 9]\n",
            "Vetor Invertido: [9 8 7 6 5 4 3 2 1 0]\n"
          ]
        }
      ]
    },
    {
      "cell_type": "markdown",
      "source": [
        "\n",
        "### 14. Empilhamento  _(fácil)_\n",
        "\n",
        "Dado `a = [1,2,3]` e `b = [4,5,6]`, empilhe horizontal e verticalmente."
      ],
      "metadata": {
        "id": "v50PSsPjmIGq"
      }
    },
    {
      "cell_type": "code",
      "source": [
        "a = np.array([1, 2, 3])\n",
        "b = np.array([4, 5, 6])\n",
        "\n",
        "resultado_vertical = np.vstack((a, b))\n",
        "print(\"Resultado Vertical (um em cima do outro):\")\n",
        "print(resultado_vertical)\n",
        "\n",
        "resultado_horizontal = np.hstack((a, b))\n",
        "print(\"Resultado Horizontal (um ao lado do outro):\")\n",
        "print(resultado_horizontal)"
      ],
      "metadata": {
        "colab": {
          "base_uri": "https://localhost:8080/"
        },
        "id": "-mvmmE0tmJuJ",
        "outputId": "eb5d2b9b-9c78-4ecc-d881-9ddc37bfa579"
      },
      "execution_count": 168,
      "outputs": [
        {
          "output_type": "stream",
          "name": "stdout",
          "text": [
            "Resultado Vertical (um em cima do outro):\n",
            "[[1 2 3]\n",
            " [4 5 6]]\n",
            "Resultado Horizontal (um ao lado do outro):\n",
            "[1 2 3 4 5 6]\n"
          ]
        }
      ]
    },
    {
      "cell_type": "markdown",
      "source": [
        "\n",
        "### 15. Diagonal  _(fácil)_\n",
        "\n",
        "Crie uma matriz 4×4 com a diagonal principal igual a 5 e as demais entradas zero.\n"
      ],
      "metadata": {
        "id": "d02ua6ZImMAK"
      }
    },
    {
      "cell_type": "code",
      "source": [
        "matriz = np.diag([5, 5, 5, 5])\n",
        "\n",
        "print(matriz)"
      ],
      "metadata": {
        "colab": {
          "base_uri": "https://localhost:8080/"
        },
        "id": "vx4rMfI5mTms",
        "outputId": "76b03793-bd92-4b72-bb73-8f5517a11f0c"
      },
      "execution_count": 169,
      "outputs": [
        {
          "output_type": "stream",
          "name": "stdout",
          "text": [
            "[[5 0 0 0]\n",
            " [0 5 0 0]\n",
            " [0 0 5 0]\n",
            " [0 0 0 5]]\n"
          ]
        }
      ]
    },
    {
      "cell_type": "markdown",
      "source": [
        "### 16. Somas por eixo  _(fácil)_\n",
        "\n",
        "Para a matriz `A = np.arange(12).reshape(3,4)`, calcule a soma por linhas e por colunas."
      ],
      "metadata": {
        "id": "B0O62-mkmUTr"
      }
    },
    {
      "cell_type": "code",
      "source": [
        "A = np.array([[ 0,  1,  2,  3],\n",
        "              [ 4,  5,  6,  7],\n",
        "              [ 8,  9, 10, 11]])\n",
        "\n",
        "print(\"Matriz A:\")\n",
        "print(A)\n",
        "print(\"-\" * 25)\n",
        "\n",
        "soma_linhas = A.sum(axis=1)\n",
        "print(f\"Soma das linhas: {soma_linhas}\")\n",
        "\n",
        "soma_colunas = A.sum(axis=0)\n",
        "print(f\"Soma das colunas: {soma_colunas}\")"
      ],
      "metadata": {
        "colab": {
          "base_uri": "https://localhost:8080/"
        },
        "id": "AiAc0WyTmWhc",
        "outputId": "1269f72a-be3f-41e7-c4e6-4e41c87e6e8a"
      },
      "execution_count": 170,
      "outputs": [
        {
          "output_type": "stream",
          "name": "stdout",
          "text": [
            "Matriz A:\n",
            "[[ 0  1  2  3]\n",
            " [ 4  5  6  7]\n",
            " [ 8  9 10 11]]\n",
            "-------------------------\n",
            "Soma das linhas: [ 6 22 38]\n",
            "Soma das colunas: [12 15 18 21]\n"
          ]
        }
      ]
    },
    {
      "cell_type": "markdown",
      "source": [
        "\n",
        "### 17. Frequências inteiras  _(fácil)_\n",
        "\n",
        "Gere 100 inteiros aleatórios em [0,9] e conte as frequências de cada valor (0 a 9)."
      ],
      "metadata": {
        "id": "nJIuB23nmXVm"
      }
    },
    {
      "cell_type": "code",
      "source": [
        "rng = np.random.default_rng(42)\n",
        "\n",
        "numeros = rng.integers(0, 10, size=100)\n",
        "\n",
        "contagem = np.bincount(numeros, minlength=10)\n",
        "\n",
        "print(f\"Números aleatórios (20 primeiros): {numeros[:20]}...\")\n",
        "print(f\"\\nContagem de cada número (de 0 a 9):\")\n",
        "print(contagem)"
      ],
      "metadata": {
        "id": "TzHVwWyrmZtO",
        "colab": {
          "base_uri": "https://localhost:8080/"
        },
        "outputId": "dc2995a0-70cf-4522-eb5d-214bc667cca8"
      },
      "execution_count": 171,
      "outputs": [
        {
          "output_type": "stream",
          "name": "stdout",
          "text": [
            "Números aleatórios (20 primeiros): [0 7 6 4 4 8 0 6 2 0 5 9 7 7 7 7 5 1 8 4]...\n",
            "\n",
            "Contagem de cada número (de 0 a 9):\n",
            "[ 9  9  6  9 15  7 11 15 12  7]\n"
          ]
        }
      ]
    },
    {
      "cell_type": "markdown",
      "source": [
        "\n",
        "### 18. Slicing com passo  _(fácil)_\n",
        "\n",
        "Dado `v = np.arange(20)`, selecione cada 3º elemento começando do índice 1."
      ],
      "metadata": {
        "id": "maHdhzM-maIZ"
      }
    },
    {
      "cell_type": "code",
      "source": [
        "v = np.arange(20)\n",
        "print(f\"Vetor Original: {v}\")\n",
        "\n",
        "resultado = v[1::3]\n",
        "\n",
        "print(f\"Resultado     : {resultado}\")"
      ],
      "metadata": {
        "id": "oA8YDlCQmcXe",
        "colab": {
          "base_uri": "https://localhost:8080/"
        },
        "outputId": "f8aa1624-c4a6-4361-c688-6561fde4b2b7"
      },
      "execution_count": 172,
      "outputs": [
        {
          "output_type": "stream",
          "name": "stdout",
          "text": [
            "Vetor Original: [ 0  1  2  3  4  5  6  7  8  9 10 11 12 13 14 15 16 17 18 19]\n",
            "Resultado     : [ 1  4  7 10 13 16 19]\n"
          ]
        }
      ]
    },
    {
      "cell_type": "markdown",
      "source": [
        "\n",
        "### 19. Máscara booleana  _(fácil)_\n",
        "\n",
        "Crie uma máscara para números pares de `0…19` e use-a para filtrar o vetor.\n"
      ],
      "metadata": {
        "id": "EQQYm3hNmc_x"
      }
    },
    {
      "cell_type": "code",
      "source": [
        "v = np.arange(20)\n",
        "print(f\"Vetor Original: {v}\")\n",
        "\n",
        "mascara_pares = (v % 2 == 0)\n",
        "print(f\"Máscara (True para pares): {mascara_pares}\")\n",
        "\n",
        "numeros_pares = v[mascara_pares]\n",
        "\n",
        "print(f\"Números Pares (filtrados): {numeros_pares}\")"
      ],
      "metadata": {
        "id": "Klh917aumfWO",
        "colab": {
          "base_uri": "https://localhost:8080/"
        },
        "outputId": "c9cae045-35a3-46a3-89f1-64961f49f1cd"
      },
      "execution_count": 173,
      "outputs": [
        {
          "output_type": "stream",
          "name": "stdout",
          "text": [
            "Vetor Original: [ 0  1  2  3  4  5  6  7  8  9 10 11 12 13 14 15 16 17 18 19]\n",
            "Máscara (True para pares): [ True False  True False  True False  True False  True False  True False\n",
            "  True False  True False  True False  True False]\n",
            "Números Pares (filtrados): [ 0  2  4  6  8 10 12 14 16 18]\n"
          ]
        }
      ]
    },
    {
      "cell_type": "markdown",
      "source": [
        "\n",
        "### 20. Lista de listas → array  _(fácil)_\n",
        "\n",
        "Converta `[[1,2,3],[4,5,6]]` em `ndarray`, verifique `shape` e `dtype`."
      ],
      "metadata": {
        "id": "q_LhRivhmgAi"
      }
    },
    {
      "cell_type": "code",
      "source": [
        "lista_python = [[1, 2, 3], [4, 5, 6]]\n",
        "\n",
        "meu_array = np.array(lista_python)\n",
        "\n",
        "print(f\"O array NumPy (ndarray):\")\n",
        "print(meu_array)\n",
        "\n",
        "print(\"\\n--- Informações do Array ---\")\n",
        "print(f\"Shape: {meu_array.shape}\")\n",
        "print(f\"Dtype: {meu_array.dtype}\")"
      ],
      "metadata": {
        "id": "Dk4-M_CImjhn",
        "colab": {
          "base_uri": "https://localhost:8080/"
        },
        "outputId": "0335bf5e-7ba8-4e15-a65e-799a53f7b595"
      },
      "execution_count": 174,
      "outputs": [
        {
          "output_type": "stream",
          "name": "stdout",
          "text": [
            "O array NumPy (ndarray):\n",
            "[[1 2 3]\n",
            " [4 5 6]]\n",
            "\n",
            "--- Informações do Array ---\n",
            "Shape: (2, 3)\n",
            "Dtype: int64\n"
          ]
        }
      ]
    },
    {
      "cell_type": "markdown",
      "source": [
        "\n",
        "### 21. Datas básicas  _(fácil)_\n",
        "\n",
        "Crie um array de datas diárias de 2025-01-01 a 2025-01-07 (inclusive)."
      ],
      "metadata": {
        "id": "5kTSk0MFmjyE"
      }
    },
    {
      "cell_type": "code",
      "source": [
        "datas = np.arange('2025-01-01', '2025-01-08', dtype='datetime64[D]')\n",
        "\n",
        "print(\"Array de datas:\")\n",
        "print(datas)"
      ],
      "metadata": {
        "id": "ftGW8VZCmmcN",
        "colab": {
          "base_uri": "https://localhost:8080/"
        },
        "outputId": "f2dab8e7-4221-495a-eb7e-133976ca2e73"
      },
      "execution_count": 175,
      "outputs": [
        {
          "output_type": "stream",
          "name": "stdout",
          "text": [
            "Array de datas:\n",
            "['2025-01-01' '2025-01-02' '2025-01-03' '2025-01-04' '2025-01-05'\n",
            " '2025-01-06' '2025-01-07']\n"
          ]
        }
      ]
    },
    {
      "cell_type": "markdown",
      "source": [
        "### 22. Centralizar colunas  _(fácil)_\n",
        "\n",
        "Dada `A = np.array([[1.,2.,3.],[4.,5.,6.]])`, subtraia a média de cada coluna.\n"
      ],
      "metadata": {
        "id": "Lfb9wFOSmm-j"
      }
    },
    {
      "cell_type": "code",
      "source": [
        "A = np.array([[1., 2., 3.],\n",
        "              [4., 5., 6.]])\n",
        "print(f\"Matriz Original (A) shape: {A.shape}\")\n",
        "print(A)\n",
        "\n",
        "media_colunas = A.mean(axis=0)\n",
        "print(f\"\\nMédia de cada coluna: {media_colunas}\")\n",
        "print(f\"Shape do vetor de médias: {media_colunas.shape}\")\n",
        "\n",
        "A_centralizado = A - media_colunas\n",
        "\n",
        "print(f\"\\nMatriz Centralizada (resultado):\")\n",
        "print(A_centralizado)\n",
        "\n",
        "print(f\"\\nNova média das colunas (verificação):\")\n",
        "print(A_centralizado.mean(axis=0))"
      ],
      "metadata": {
        "id": "WZsbSVlKmuGk",
        "colab": {
          "base_uri": "https://localhost:8080/"
        },
        "outputId": "e005d5f9-4a4b-435a-fb82-2b7cd1517b8e"
      },
      "execution_count": 176,
      "outputs": [
        {
          "output_type": "stream",
          "name": "stdout",
          "text": [
            "Matriz Original (A) shape: (2, 3)\n",
            "[[1. 2. 3.]\n",
            " [4. 5. 6.]]\n",
            "\n",
            "Média de cada coluna: [2.5 3.5 4.5]\n",
            "Shape do vetor de médias: (3,)\n",
            "\n",
            "Matriz Centralizada (resultado):\n",
            "[[-1.5 -1.5 -1.5]\n",
            " [ 1.5  1.5  1.5]]\n",
            "\n",
            "Nova média das colunas (verificação):\n",
            "[0. 0. 0.]\n"
          ]
        }
      ]
    },
    {
      "cell_type": "markdown",
      "source": [
        "### 23. Produto elemento-a-elemento vs. escalar  _(fácil)_\n",
        "\n",
        "Dadas `a=[1,2,3]` e `b=[4,5,6]`, calcule produto elemento a elemento e o produto escalar.\n"
      ],
      "metadata": {
        "id": "DlzO07bcmucQ"
      }
    },
    {
      "cell_type": "code",
      "source": [
        "a = np.array([1, 2, 3])\n",
        "b = np.array([4, 5, 6])\n",
        "\n",
        "print(f\"Vetor a: {a}\")\n",
        "print(f\"Vetor b: {b}\")\n",
        "print(\"\\n\" + \"=\"*45 + \"\\n\")\n",
        "\n",
        "prod_elemento = a * b\n",
        "\n",
        "print(\"--- 1. Produto Elemento a Elemento ---\")\n",
        "print(f\"Resultado (a * b): {prod_elemento}\")\n",
        "print(\"Explicação: [1*4, 2*5, 3*6]\")\n",
        "print(\"\\n\" + \"=\"*45 + \"\\n\")\n",
        "\n",
        "prod_escalar_dot = np.dot(a, b)\n",
        "\n",
        "prod_escalar_at = a @ b\n",
        "\n",
        "print(\"--- 2. Produto Escalar (Dot Product) ---\")\n",
        "print(f\"Resultado (np.dot(a, b)): {prod_escalar_dot}\")\n",
        "print(f\"Resultado (a @ b):         {prod_escalar_at}\")\n",
        "print(\"Explicação: (1*4) + (2*5) + (3*6) = 4 + 10 + 18\")"
      ],
      "metadata": {
        "id": "IJF25c82mxtW",
        "colab": {
          "base_uri": "https://localhost:8080/"
        },
        "outputId": "04c9bf98-f933-4813-a1f9-29cb75eab75b"
      },
      "execution_count": 177,
      "outputs": [
        {
          "output_type": "stream",
          "name": "stdout",
          "text": [
            "Vetor a: [1 2 3]\n",
            "Vetor b: [4 5 6]\n",
            "\n",
            "=============================================\n",
            "\n",
            "--- 1. Produto Elemento a Elemento ---\n",
            "Resultado (a * b): [ 4 10 18]\n",
            "Explicação: [1*4, 2*5, 3*6]\n",
            "\n",
            "=============================================\n",
            "\n",
            "--- 2. Produto Escalar (Dot Product) ---\n",
            "Resultado (np.dot(a, b)): 32\n",
            "Resultado (a @ b):         32\n",
            "Explicação: (1*4) + (2*5) + (3*6) = 4 + 10 + 18\n"
          ]
        }
      ]
    },
    {
      "cell_type": "markdown",
      "source": [
        "### 24. Troca de colunas  _(fácil)_\n",
        "\n",
        "Troque as colunas 0 e 2 de `A = np.arange(12).reshape(3,4)` sem copiar (sempre que possível)."
      ],
      "metadata": {
        "id": "Pov71zS1myTZ"
      }
    },
    {
      "cell_type": "code",
      "source": [
        "A = np.arange(12).reshape(3, 4)\n",
        "print(\"Matriz Original (A):\")\n",
        "print(A)\n",
        "\n",
        "temp = A[:, 0].copy()\n",
        "\n",
        "A[:, 0] = A[:, 2]\n",
        "\n",
        "A[:, 2] = temp\n",
        "\n",
        "print(\"\\nMatriz Modificada (A):\")\n",
        "print(A)"
      ],
      "metadata": {
        "id": "S2uVzgyNm1Sx",
        "colab": {
          "base_uri": "https://localhost:8080/"
        },
        "outputId": "38313803-1316-448f-97a7-dd157e6b883b"
      },
      "execution_count": 178,
      "outputs": [
        {
          "output_type": "stream",
          "name": "stdout",
          "text": [
            "Matriz Original (A):\n",
            "[[ 0  1  2  3]\n",
            " [ 4  5  6  7]\n",
            " [ 8  9 10 11]]\n",
            "\n",
            "Matriz Modificada (A):\n",
            "[[ 2  1  0  3]\n",
            " [ 6  5  4  7]\n",
            " [10  9  8 11]]\n"
          ]
        }
      ]
    },
    {
      "cell_type": "markdown",
      "source": [
        "## Médios (12)\n",
        "\n",
        "### 25. Flatten vs. ravel  _(médio)_\n",
        "\n",
        "Mostre a diferença entre `flatten()` (cópia) e `ravel()` (view quando possível). Modifique o resultado de `ravel()` e observe o original."
      ],
      "metadata": {
        "id": "aX7fEbikm8xz"
      }
    },
    {
      "cell_type": "code",
      "source": [
        "A_copia = np.array([[1, 2], [3, 4]])\n",
        "resultado_copia = A_copia.flatten()\n",
        "\n",
        "resultado_copia[0] = 99\n",
        "\n",
        "print(f\"Resultado (flatten): {resultado_copia}\")\n",
        "print(f\"Original (A_copia): {A_copia}\")\n",
        "print(\"-\" * 20)\n",
        "\n",
        "\n",
        "A_original = np.array([[1, 2], [3, 4]])\n",
        "resultado_ravel = A_original.ravel()\n",
        "\n",
        "resultado_ravel[0] = 99\n",
        "\n",
        "print(f\"Resultado (ravel): {resultado_ravel}\")\n",
        "print(f\"Original (A_original): {A_original}\")"
      ],
      "metadata": {
        "id": "5Gct7UBdm9cr",
        "colab": {
          "base_uri": "https://localhost:8080/"
        },
        "outputId": "37e52fcb-bd3a-404e-8e1c-610569213cd9"
      },
      "execution_count": 179,
      "outputs": [
        {
          "output_type": "stream",
          "name": "stdout",
          "text": [
            "Resultado (flatten): [99  2  3  4]\n",
            "Original (A_copia): [[1 2]\n",
            " [3 4]]\n",
            "--------------------\n",
            "Resultado (ravel): [99  2  3  4]\n",
            "Original (A_original): [[99  2]\n",
            " [ 3  4]]\n"
          ]
        }
      ]
    },
    {
      "cell_type": "markdown",
      "source": [
        "### 26. Tabuleiro 8×8  _(médio)_\n",
        "\n",
        "Crie uma matriz 8×8 com padrão de tabuleiro (0 e 1 alternados)."
      ],
      "metadata": {
        "id": "tk_3yXejm-Uq"
      }
    },
    {
      "cell_type": "code",
      "source": [
        "tabuleiro = np.zeros((8, 8), dtype=int)\n",
        "\n",
        "tabuleiro[::2, 1::2] = 1\n",
        "\n",
        "tabuleiro[1::2, ::2] = 1\n",
        "\n",
        "print(tabuleiro)"
      ],
      "metadata": {
        "id": "RBvMO5QLnbgS",
        "colab": {
          "base_uri": "https://localhost:8080/"
        },
        "outputId": "24507adf-aadb-418e-d01e-cd6f269da18d"
      },
      "execution_count": 180,
      "outputs": [
        {
          "output_type": "stream",
          "name": "stdout",
          "text": [
            "[[0 1 0 1 0 1 0 1]\n",
            " [1 0 1 0 1 0 1 0]\n",
            " [0 1 0 1 0 1 0 1]\n",
            " [1 0 1 0 1 0 1 0]\n",
            " [0 1 0 1 0 1 0 1]\n",
            " [1 0 1 0 1 0 1 0]\n",
            " [0 1 0 1 0 1 0 1]\n",
            " [1 0 1 0 1 0 1 0]]\n"
          ]
        }
      ]
    },
    {
      "cell_type": "markdown",
      "source": [
        "### 27. np.where condicional  _(médio)_\n",
        "\n",
        "Dado `x = np.arange(-5,6)`, substitua negativos por 0 e mantenha não-negativos."
      ],
      "metadata": {
        "id": "xSfvyV-hnbwQ"
      }
    },
    {
      "cell_type": "code",
      "source": [
        "x = np.arange(-5, 6)\n",
        "print(f\"Vetor Original: {x}\")\n",
        "\n",
        "resultado = np.where(x < 0, 0, x)\n",
        "\n",
        "print(\"Resultado com np.where:\")\n",
        "print(resultado)"
      ],
      "metadata": {
        "id": "UIjqStOEnfRV",
        "colab": {
          "base_uri": "https://localhost:8080/"
        },
        "outputId": "f662f7ba-e384-4e1a-e02d-eaa54c5c98cd"
      },
      "execution_count": 181,
      "outputs": [
        {
          "output_type": "stream",
          "name": "stdout",
          "text": [
            "Vetor Original: [-5 -4 -3 -2 -1  0  1  2  3  4  5]\n",
            "Resultado com np.where:\n",
            "[0 0 0 0 0 0 1 2 3 4 5]\n"
          ]
        }
      ]
    },
    {
      "cell_type": "markdown",
      "source": [
        "### 28. Precisão de média  _(médio)_\n",
        "\n",
        "Gere 1_000_000 floats uniformes em [0,1) e compute a média. Compare com o valor teórico 0.5 (erro absoluto)."
      ],
      "metadata": {
        "id": "gJjS2zjfnfoG"
      }
    },
    {
      "cell_type": "code",
      "source": [
        "tamanho_amostra = 1_000_000\n",
        "dado = 42\n",
        "\n",
        "rng = np.random.default_rng(dado)\n",
        "numeros = rng.random(size=tamanho_amostra)\n",
        "\n",
        "media_calculada = numeros.mean()\n",
        "\n",
        "media_teorica = 0.5\n",
        "\n",
        "erro_absoluto = abs(media_calculada - media_teorica)\n",
        "\n",
        "print(f\"Tamanho da amostra: {tamanho_amostra:,}\")\n",
        "\n",
        "print(f\"Média calculada: {media_calculada:.8f}\")\n",
        "print(f\"Média teórica:    {media_teorica:.8f}\")\n",
        "print(f\"Erro absoluto:    {erro_absoluto:.8f}\")"
      ],
      "metadata": {
        "id": "tZb5ePXVnkuM",
        "colab": {
          "base_uri": "https://localhost:8080/"
        },
        "outputId": "b6588776-a66a-45a6-82ed-fc08eb4285fe"
      },
      "execution_count": 182,
      "outputs": [
        {
          "output_type": "stream",
          "name": "stdout",
          "text": [
            "Tamanho da amostra: 1,000,000\n",
            "Média calculada: 0.50002648\n",
            "Média teórica:    0.50000000\n",
            "Erro absoluto:    0.00002648\n"
          ]
        }
      ]
    },
    {
      "cell_type": "markdown",
      "source": [
        "### 29. Produto cartesiano (broadcasting)  _(médio)_\n",
        "\n",
        "Dado `a=[1,2,3]` e `b=[10,20,30,40]`, gere todas as somas possíveis `a_i + b_j` via broadcasting (matriz 3×4)."
      ],
      "metadata": {
        "id": "DRRIUSvwnlLm"
      }
    },
    {
      "cell_type": "code",
      "source": [
        "a = np.array([1, 2, 3])\n",
        "b = np.array([10, 20, 30, 40])\n",
        "\n",
        "print(f\"Vetor 'a' (shape {a.shape}): {a}\")\n",
        "print(f\"Vetor 'b' (shape {b.shape}): {b}\")\n",
        "\n",
        "a_coluna = a[:, np.newaxis]\n",
        "\n",
        "print(f\"'a' como coluna (shape {a_coluna.shape}):\")\n",
        "print(a_coluna)\n",
        "\n",
        "resultado = a_coluna + b\n",
        "\n",
        "print(\"Resultado\")\n",
        "print(resultado)"
      ],
      "metadata": {
        "id": "rsZDfEK1nn0J",
        "colab": {
          "base_uri": "https://localhost:8080/"
        },
        "outputId": "39b0b2b9-f802-4b63-b5b3-89f5ff5de1db"
      },
      "execution_count": 183,
      "outputs": [
        {
          "output_type": "stream",
          "name": "stdout",
          "text": [
            "Vetor 'a' (shape (3,)): [1 2 3]\n",
            "Vetor 'b' (shape (4,)): [10 20 30 40]\n",
            "'a' como coluna (shape (3, 1)):\n",
            "[[1]\n",
            " [2]\n",
            " [3]]\n",
            "Resultado\n",
            "[[11 21 31 41]\n",
            " [12 22 32 42]\n",
            " [13 23 33 43]]\n"
          ]
        }
      ]
    },
    {
      "cell_type": "markdown",
      "source": [
        "### 30. Convolução 1D simples  _(médio)_\n",
        "\n",
        "Implemente uma convolução 1D 'valid' de um sinal `s` por um kernel `k` usando `np.flip` e `np.lib.stride_tricks.sliding_window_view` (sem `np.convolve`)."
      ],
      "metadata": {
        "id": "xfua8PH3npN1"
      }
    },
    {
      "cell_type": "code",
      "source": [
        "sinal = np.array([1, 2, 3, 4, 5, 6, 7])\n",
        "kernel = np.array([10, 20, 30])\n",
        "\n",
        "kernel_invertido = np.flip(kernel)\n",
        "print(f\"Kernel invertido: {kernel_invertido}\")\n",
        "\n",
        "fatias = sliding_window_view(sinal, window_shape=len(kernel))\n",
        "\n",
        "print(f\"Fatias do sinal (o 'deslizar'):\")\n",
        "print(fatias)\n",
        "resultado = fatias @ kernel_invertido\n",
        "\n",
        "print(resultado)"
      ],
      "metadata": {
        "id": "D-KRE09hnrB7",
        "colab": {
          "base_uri": "https://localhost:8080/"
        },
        "outputId": "2c08e0a8-2077-4df7-fba9-0a822a93e302"
      },
      "execution_count": 186,
      "outputs": [
        {
          "output_type": "stream",
          "name": "stdout",
          "text": [
            "Kernel invertido: [30 20 10]\n",
            "Fatias do sinal (o 'deslizar'):\n",
            "[[1 2 3]\n",
            " [2 3 4]\n",
            " [3 4 5]\n",
            " [4 5 6]\n",
            " [5 6 7]]\n",
            "[100 160 220 280 340]\n"
          ]
        }
      ]
    },
    {
      "cell_type": "markdown",
      "source": [
        "### 31. Normalização min–max por coluna  _(médio)_\n",
        "\n",
        "Dada `A = rng.normal(size=(5,4))`, normalize cada coluna para o intervalo [0,1], tratando colunas constantes.\n"
      ],
      "metadata": {
        "id": "i6cXcBgknrQX"
      }
    },
    {
      "cell_type": "code",
      "source": [],
      "metadata": {
        "id": "-VTD-O_cnuH3"
      },
      "execution_count": 184,
      "outputs": []
    },
    {
      "cell_type": "markdown",
      "source": [
        "### 32. Ordenar por coluna  _(médio)_\n",
        "\n",
        "Ordene as linhas de `A = np.array([[3,9],[1,4],[2,5]])` pelo valor crescente da 2ª coluna.\n"
      ],
      "metadata": {
        "id": "j-gIZ44Rnucx"
      }
    },
    {
      "cell_type": "code",
      "source": [
        "rng = np.random.default_rng(42)\n",
        "A = rng.normal(size=(5, 4))\n",
        "\n",
        "A[:, 2] = 5.0\n",
        "\n",
        "print(f\"Matriz Original (Coluna 2 é constante):\\n{A}\\n\")\n",
        "\n",
        "col_min = A.min(axis=0)\n",
        "col_max = A.max(axis=0)\n",
        "\n",
        "col_range = col_max - col_min\n",
        "\n",
        "numerator = A - col_min\n",
        "\n",
        "A_normalizada = np.where(col_range != 0, numerator / col_range, 0)\n",
        "\n",
        "print(f\"Matriz Normalizada [0, 1]\")\n",
        "print(A_normalizada)\n",
        "\n",
        "print(\"Verificação\")\n",
        "print(f\"Novo Mínimo por coluna: {A_normalizada.min(axis=0)}\")\n",
        "print(f\"Novo Máximo por coluna: {A_normalizada.max(axis=0)}\")"
      ],
      "metadata": {
        "id": "Nq-VL7VnnwvO",
        "colab": {
          "base_uri": "https://localhost:8080/"
        },
        "outputId": "98afd111-1680-4097-a910-5a29a87f9a1b"
      },
      "execution_count": 187,
      "outputs": [
        {
          "output_type": "stream",
          "name": "stdout",
          "text": [
            "Matriz Original (Coluna 2 é constante):\n",
            "[[ 0.30471708 -1.03998411  5.          0.94056472]\n",
            " [-1.95103519 -1.30217951  5.         -0.31624259]\n",
            " [-0.01680116 -0.85304393  5.          0.77779194]\n",
            " [ 0.0660307   1.12724121  5.         -0.85929246]\n",
            " [ 0.36875078 -0.9588826   5.         -0.04992591]]\n",
            "\n",
            "Matriz Normalizada [0, 1]\n",
            "[[0.97239672 0.10792507 0.         1.        ]\n",
            " [0.         0.         0.         0.30171831]\n",
            " [0.83379849 0.18487353 0.         0.9095635 ]\n",
            " [0.86950517 1.         0.         0.        ]\n",
            " [1.         0.14130813 0.         0.44968376]]\n",
            "Verificação\n",
            "Novo Mínimo por coluna: [0. 0. 0. 0.]\n",
            "Novo Máximo por coluna: [1. 1. 0. 1.]\n"
          ]
        },
        {
          "output_type": "stream",
          "name": "stderr",
          "text": [
            "/tmp/ipython-input-1117866444.py:15: RuntimeWarning: invalid value encountered in divide\n",
            "  A_normalizada = np.where(col_range != 0, numerator / col_range, 0)\n"
          ]
        }
      ]
    },
    {
      "cell_type": "markdown",
      "source": [
        "### 32. Ordenar por coluna  _(médio)_\n",
        "\n",
        "Ordene as linhas de `A = np.array([[3,9],[1,4],[2,5]])` pelo valor crescente da 2ª coluna."
      ],
      "metadata": {
        "id": "qgEWWCgln0mo"
      }
    },
    {
      "cell_type": "code",
      "source": [
        "A = np.array([[3, 9],\n",
        "              [1, 4],\n",
        "              [2, 5]])\n",
        "print(f\"Matriz Original:\\n{A}\")\n",
        "\n",
        "coluna_chave = A[:, 1]\n",
        "print(f\"\\nValores da coluna-chave (índice 1): {coluna_chave}\")\n",
        "\n",
        "indices_ordenados = np.argsort(coluna_chave)\n",
        "print(f\"Índices ordenados (resultado do argsort): {indices_ordenados}\")\n",
        "\n",
        "A_ordenado = A[indices_ordenados]\n",
        "\n",
        "print(f\"\\nMatriz Ordenada pela 2ª coluna:\")\n",
        "print(A_ordenado)"
      ],
      "metadata": {
        "id": "Ix9XBhBbn1Zd",
        "colab": {
          "base_uri": "https://localhost:8080/"
        },
        "outputId": "4f900dd1-b90a-449c-9eb0-2ae94e562d33"
      },
      "execution_count": 188,
      "outputs": [
        {
          "output_type": "stream",
          "name": "stdout",
          "text": [
            "Matriz Original:\n",
            "[[3 9]\n",
            " [1 4]\n",
            " [2 5]]\n",
            "\n",
            "Valores da coluna-chave (índice 1): [9 4 5]\n",
            "Índices ordenados (resultado do argsort): [1 2 0]\n",
            "\n",
            "Matriz Ordenada pela 2ª coluna:\n",
            "[[1 4]\n",
            " [2 5]\n",
            " [3 9]]\n"
          ]
        }
      ]
    },
    {
      "cell_type": "markdown",
      "source": [
        "### 33. Únicos + contagens + primeira ocorrência  _(médio)_\n",
        "\n",
        "Para `x = [3,1,2,3,2,3,1]`, obtenha valores únicos, contagens e índice da primeira ocorrência de cada valor."
      ],
      "metadata": {
        "id": "rzeJdJU3n4N1"
      }
    },
    {
      "cell_type": "code",
      "source": [
        "x = np.array([3, 1, 2, 3, 2, 3, 1])\n",
        "print(f\"Array Original: {x}\")\n",
        "print(\"Índices:          [0, 1, 2, 3, 4, 5, 6]\")\n",
        "\n",
        "unicos, indices_primeira, contagens = np.unique(x,\n",
        "                                                return_index=True,\n",
        "                                                return_counts=True)\n",
        "\n",
        "print(\"\\n\" + \"=\"*45 + \"\\n\")\n",
        "print(f\"1. Valores Únicos (ordenados):    {unicos}\")\n",
        "print(f\"2. Índice da Primeira Ocorrência: {indices_primeira}\")\n",
        "print(f\"3. Contagens (quantas vezes):   {contagens}\")\n",
        "\n",
        "print(\"Explicação dos Resultados\")\n",
        "print(f\"Valor {unicos[0]}: Primeira vez no índice {indices_primeira[0]}. Apareceu {contagens[0]} vezes.\")\n",
        "print(f\"Valor {unicos[1]}: Primeira vez no índice {indices_primeira[1]}. Apareceu {contagens[1]} vezes.\")\n",
        "print(f\"Valor {unicos[2]}: Primeira vez no índice {indices_primeira[2]}. Apareceu {contagens[2]} vezes.\")"
      ],
      "metadata": {
        "id": "msD9Y0-En4lf",
        "colab": {
          "base_uri": "https://localhost:8080/"
        },
        "outputId": "a3d714b7-5ad5-4020-e532-f5ecc2205cee"
      },
      "execution_count": 189,
      "outputs": [
        {
          "output_type": "stream",
          "name": "stdout",
          "text": [
            "Array Original: [3 1 2 3 2 3 1]\n",
            "Índices:          [0, 1, 2, 3, 4, 5, 6]\n",
            "\n",
            "=============================================\n",
            "\n",
            "1. Valores Únicos (ordenados):    [1 2 3]\n",
            "2. Índice da Primeira Ocorrência: [1 2 0]\n",
            "3. Contagens (quantas vezes):   [2 2 3]\n",
            "Explicação dos Resultados\n",
            "Valor 1: Primeira vez no índice 1. Apareceu 2 vezes.\n",
            "Valor 2: Primeira vez no índice 2. Apareceu 2 vezes.\n",
            "Valor 3: Primeira vez no índice 0. Apareceu 3 vezes.\n"
          ]
        }
      ]
    },
    {
      "cell_type": "markdown",
      "source": [
        "## 34. Matriz de distâncias 2D  _(médio)_\n",
        "\n",
        "Dada `P` com N pontos 2D, compute a matriz NxN de distâncias euclidianas sem loops explícitos."
      ],
      "metadata": {
        "id": "GQWH45EPn7Ow"
      }
    },
    {
      "cell_type": "code",
      "source": [
        "rng = np.random.default_rng(42)\n",
        "N = 5\n",
        "P = rng.random((N, 2))\n",
        "\n",
        "print(f\"Pontos Originais (P) shape: {P.shape}\\n{P}\\n\")\n",
        "\n",
        "X = P[:, 0:1]\n",
        "Y = P[:, 1:2]\n",
        "\n",
        "deltas_X = X - X.T\n",
        "deltas_Y = Y - Y.T\n",
        "\n",
        "distancias_ao_quadrado = deltas_X**2 + deltas_Y**2\n",
        "\n",
        "distancias = np.sqrt(distancias_ao_quadrado)\n",
        "\n",
        "print(\"Matriz de Distâncias 5x5\")\n",
        "print(distancias.round(2))"
      ],
      "metadata": {
        "id": "CBbHXc0Yn7nC",
        "colab": {
          "base_uri": "https://localhost:8080/"
        },
        "outputId": "9137a400-f6ca-4efa-dde5-a9407f40e51e"
      },
      "execution_count": 190,
      "outputs": [
        {
          "output_type": "stream",
          "name": "stdout",
          "text": [
            "Pontos Originais (P) shape: (5, 2)\n",
            "[[0.77395605 0.43887844]\n",
            " [0.85859792 0.69736803]\n",
            " [0.09417735 0.97562235]\n",
            " [0.7611397  0.78606431]\n",
            " [0.12811363 0.45038594]]\n",
            "\n",
            "Matriz de Distâncias 5x5\n",
            "[[0.   0.27 0.87 0.35 0.65]\n",
            " [0.27 0.   0.81 0.13 0.77]\n",
            " [0.87 0.81 0.   0.69 0.53]\n",
            " [0.35 0.13 0.69 0.   0.72]\n",
            " [0.65 0.77 0.53 0.72 0.  ]]\n"
          ]
        }
      ]
    },
    {
      "cell_type": "markdown",
      "source": [
        "### 35. Covariância e correlação  _(médio)_\n",
        "\n",
        "Simule uma matriz 1000×3 de N(0,1) e compute `cov` (colunas como variáveis) e `corrcoef`."
      ],
      "metadata": {
        "id": "yuJs9kKjoA1f"
      }
    },
    {
      "cell_type": "code",
      "source": [
        "rng = np.random.default_rng(42)\n",
        "\n",
        "A = rng.standard_normal(size=(1000, 3))\n",
        "\n",
        "cov_matrix = np.cov(A.T)\n",
        "\n",
        "print(\"Matriz de Covariância (3x3)\")\n",
        "print(cov_matrix.round(4))\n",
        "\n",
        "corr_matrix = np.corrcoef(A.T)\n",
        "\n",
        "print(\"Matriz de Correlação (3x3)\")\n",
        "print(corr_matrix.round(4))"
      ],
      "metadata": {
        "id": "Dl2jFoxloBj-",
        "colab": {
          "base_uri": "https://localhost:8080/"
        },
        "outputId": "0c9b383d-ccd3-45f9-ceac-bbcfaadfb499"
      },
      "execution_count": 191,
      "outputs": [
        {
          "output_type": "stream",
          "name": "stdout",
          "text": [
            "Matriz de Covariância (3x3)\n",
            "[[ 1.0281  0.0034 -0.0303]\n",
            " [ 0.0034  0.9969  0.0635]\n",
            " [-0.0303  0.0635  1.0227]]\n",
            "Matriz de Correlação (3x3)\n",
            "[[ 1.      0.0034 -0.0295]\n",
            " [ 0.0034  1.      0.0629]\n",
            " [-0.0295  0.0629  1.    ]]\n"
          ]
        }
      ]
    },
    {
      "cell_type": "markdown",
      "source": [
        "### 36. One-hot encoding  _(médio)_\n",
        "\n",
        "Converta os rótulos `y = [2,0,1,2]` em codificação one-hot usando apenas operações NumPy.\n"
      ],
      "metadata": {
        "id": "mFgUeaIBoCDn"
      }
    },
    {
      "cell_type": "code",
      "source": [
        "y = np.array([2, 0, 1, 2])\n",
        "\n",
        "num_classes = np.max(y) + 1\n",
        "\n",
        "modelo = np.eye(num_classes, dtype=int)\n",
        "one_hot = modelo[y]\n",
        "\n",
        "print(\"Matriz\")\n",
        "print(modelo)\n",
        "print(\"\\nResultado One-Hot (modelo[y]):\")\n",
        "print(one_hot)"
      ],
      "metadata": {
        "id": "SRRoOqGFoEio",
        "colab": {
          "base_uri": "https://localhost:8080/"
        },
        "outputId": "34f961c7-fb10-43c2-c5c8-50a252bb5c81"
      },
      "execution_count": 193,
      "outputs": [
        {
          "output_type": "stream",
          "name": "stdout",
          "text": [
            "Matriz\n",
            "[[1 0 0]\n",
            " [0 1 0]\n",
            " [0 0 1]]\n",
            "\n",
            "Resultado One-Hot (modelo[y]):\n",
            "[[0 0 1]\n",
            " [1 0 0]\n",
            " [0 1 0]\n",
            " [0 0 1]]\n"
          ]
        }
      ]
    },
    {
      "cell_type": "markdown",
      "source": [
        "## Difíceis (6)\n",
        "\n",
        "### 37. k-means 2D (NumPy puro)  _(difícil)_\n",
        "\n",
        "Implemente k-means com K=3 em pontos 2D: inicialize centróides aleatórios, faça 10 iterações de (1) atribuir pontos ao centróide mais próximo e (2) recomputar centróides."
      ],
      "metadata": {
        "id": "z_HLbEWXOUBS"
      }
    },
    {
      "cell_type": "code",
      "source": [
        "rng = np.random.default_rng(42)\n",
        "K = 3\n",
        "M = 20\n",
        "D = 2\n",
        "N_ITER = 5\n",
        "\n",
        "\n",
        "pontos = rng.random(size=(M, D)) * 10\n",
        "\n",
        "indices_iniciais = rng.choice(M, K, replace=False)\n",
        "centroides = pontos[indices_iniciais]\n",
        "\n",
        "print(f\"Temos {M} pontos.\")\n",
        "print(f\"Centróides Iniciais (aleatórios):\\n{centroides.round(2)}\")\n",
        "print(\"\\n--- Começando as Iterações ---\")\n",
        "\n",
        "for i in range(N_ITER):\n",
        "    print(f\"Iteração {i+1}/{N_ITER}...\")\n",
        "\n",
        "    distancias = np.zeros((M, K))\n",
        "\n",
        "\n",
        "    for k in range(K):\n",
        "        centroide_k = centroides[k]\n",
        "\n",
        "        dist_sq = ((pontos - centroide_k)**2).sum(axis=1)\n",
        "\n",
        "        distancias[:, k] = np.sqrt(dist_sq)\n",
        "\n",
        "    labels = np.argmin(distancias, axis=1)\n",
        "\n",
        "    for k in range(K):\n",
        "        pontos_do_cluster = pontos[labels == k]\n",
        "\n",
        "        if len(pontos_do_cluster) > 0:\n",
        "            centroides[k] = pontos_do_cluster.mean(axis=0)\n",
        "\n",
        "print(\"\\n--- K-Means Concluído ---\")\n",
        "print(f\"Centróides Finais:\\n{centroides.round(2)}\")\n",
        "print(f\"\\nAtribuição final (qual cluster cada ponto pertence):\")\n",
        "print(labels)"
      ],
      "metadata": {
        "colab": {
          "base_uri": "https://localhost:8080/"
        },
        "id": "5m1f2NelOU5_",
        "outputId": "971304c4-a291-4283-a489-45393a72aeab"
      },
      "execution_count": 194,
      "outputs": [
        {
          "output_type": "stream",
          "name": "stdout",
          "text": [
            "Temos 20 pontos.\n",
            "Centróides Iniciais (aleatórios):\n",
            "[[3.26 3.7 ]\n",
            " [5.55 0.64]\n",
            " [7.61 7.86]]\n",
            "\n",
            "--- Começando as Iterações ---\n",
            "Iteração 1/5...\n",
            "Iteração 2/5...\n",
            "Iteração 3/5...\n",
            "Iteração 4/5...\n",
            "Iteração 5/5...\n",
            "\n",
            "--- K-Means Concluído ---\n",
            "Centróides Finais:\n",
            "[[2.04 6.5 ]\n",
            " [6.06 2.16]\n",
            " [8.01 8.  ]]\n",
            "\n",
            "Atribuição final (qual cluster cada ponto pertence):\n",
            "[1 2 0 2 0 0 2 1 1 2 1 2 1 1 0 2 0 1 0 0]\n"
          ]
        }
      ]
    },
    {
      "cell_type": "markdown",
      "source": [
        "\n",
        "### 38. PCA básica (autovetores)  _(difícil)_\n",
        "\n",
        "Implemente PCA 2D→1D: centralize `X` (N×2), calcule covariância, autovetores, projete em 1D e reconstrua aproximado."
      ],
      "metadata": {
        "id": "JS6m85X0OVrZ"
      }
    },
    {
      "cell_type": "code",
      "source": [],
      "metadata": {
        "id": "k_fpdTHvOW7-"
      },
      "execution_count": null,
      "outputs": []
    },
    {
      "cell_type": "markdown",
      "source": [
        "\n",
        "### 39. Convolução 2D (im2col)  _(difícil)_\n",
        "\n",
        "Implemente convolução 2D 'valid' de uma imagem `I` por um kernel `K` usando `sliding_window_view` para gerar blocos e multiplicação matricial."
      ],
      "metadata": {
        "id": "qGcihQSOOXjg"
      }
    },
    {
      "cell_type": "code",
      "source": [],
      "metadata": {
        "id": "qsx3UJN1OYnW"
      },
      "execution_count": null,
      "outputs": []
    },
    {
      "cell_type": "markdown",
      "source": [
        "### 40. Sistemas lineares e resíduo  _(difícil)_\n",
        "\n",
        "Gere uma matriz A (100×100) bem-condicionada, um vetor b e resolva `Ax=b` com `np.linalg.solve`. Compute o resíduo relativo `||Ax−b||/||b||` e `cond(A)`."
      ],
      "metadata": {
        "id": "7oT-MteVOlJ9"
      }
    },
    {
      "cell_type": "code",
      "source": [],
      "metadata": {
        "id": "bKIUAN9ROpnL"
      },
      "execution_count": null,
      "outputs": []
    },
    {
      "cell_type": "markdown",
      "source": [
        "### 41. Regressão linear (OLS) com NumPy  _(difícil)_\n",
        "\n",
        "Dado `X` (N×d) e `y`, calcule os coeficientes OLS usando `np.linalg.lstsq` e avalie RMSE no treino."
      ],
      "metadata": {
        "id": "C9Dyo8QZOqPL"
      }
    },
    {
      "cell_type": "code",
      "source": [],
      "metadata": {
        "id": "ZUqwj7zgOswd"
      },
      "execution_count": null,
      "outputs": []
    },
    {
      "cell_type": "markdown",
      "source": [
        "### 42. Rolling window 2D com strides  _(difícil)_\n",
        "\n",
        "Usando `sliding_window_view`, compute a média local 3×3 de uma imagem 2D sem laços explícitos."
      ],
      "metadata": {
        "id": "qY6YbKJzOtVt"
      }
    },
    {
      "cell_type": "code",
      "source": [],
      "metadata": {
        "id": "AnwWtzCeOwie"
      },
      "execution_count": null,
      "outputs": []
    }
  ]
}